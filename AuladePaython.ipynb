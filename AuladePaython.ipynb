{
  "nbformat": 4,
  "nbformat_minor": 0,
  "metadata": {
    "colab": {
      "name": "AuladePaython.ipynb",
      "provenance": [],
      "collapsed_sections": [],
      "include_colab_link": true
    },
    "kernelspec": {
      "name": "python3",
      "display_name": "Python 3"
    },
    "language_info": {
      "name": "python"
    }
  },
  "cells": [
    {
      "cell_type": "markdown",
      "metadata": {
        "id": "view-in-github",
        "colab_type": "text"
      },
      "source": [
        "<a href=\"https://colab.research.google.com/github/fabflu007/hello-world/blob/main/AuladePaython.ipynb\" target=\"_parent\"><img src=\"https://colab.research.google.com/assets/colab-badge.svg\" alt=\"Open In Colab\"/></a>"
      ]
    },
    {
      "cell_type": "code",
      "metadata": {
        "colab": {
          "base_uri": "https://localhost:8080/"
        },
        "id": "72LT5yvn6xAm",
        "outputId": "a74bbe4a-9d05-4be3-a5cc-b5608b8f1fb2"
      },
      "source": [
        "import math # Ativa o módulo de funções matemáticas\n",
        "\"\"\" Gera a sequência de Fibonacci até ultrapassar um limite\n",
        "    que deve ser menor do que 1000, para alinhar os resultados\n",
        "    e razão entre cada dois elementos \"\"\"\n",
        "# O limite deve ser maior ou igual a 2\n",
        "Limite=int(input('Entre com o limite (>= 2): '))\n",
        "N=2 # Número de ordem de cada elemento da sequência\n",
        "FibA = 1\n",
        "FibB = 1\n",
        "# Imprime os títulos da tabela\n",
        "print(' N      Fib(N)          Razão')\n",
        "# Imprime os dois primeiros\n",
        "print ('001     001')\n",
        "print ('002     001     1.0')\n",
        "while FibB < Limite:\n",
        "  Aux  = FibA + FibB # Cada novo elemento será a soma dos dois anteriores\n",
        "  FibA =FibB # O segundo elemento torna-se o primeiro\n",
        "  FibB =Aux  # O segundo elemento recebe a soma dos dois anteriores\n",
        "  N    = N+1     # Número de ordem do próximo elemento\n",
        "  # Concatena 00 à esquerda se Fib(N) for menor do que 10\n",
        "  #   e um 0 se for maior do que 9 e menor do que 100\n",
        "  \n",
        "# print('00'+str(N) if N<10 else '0'+str(N) if N<100 else N,\n",
        "#      '   ', '00'+str(FibB) if FibB<10 else\n",
        "#      '0'+str(FibB) if FibB<100 else FibB,'   ', FibB/FibA) \n",
        "  print('00'+str(N)\\\n",
        "        if N<10\\\n",
        "        else '0'+str(N)\\\n",
        "        if N<100 \\\n",
        "        else \\\n",
        "        N,'   ', '00'+str(FibB) \\\n",
        "        if FibB<10 \\\n",
        "        else \\\n",
        "      '0'+str(FibB)  \\\n",
        "      if FibB<100 \\\n",
        "      else \\\n",
        "      FibB,'   ', FibB/FibA)\n",
        "   \n",
        "print('Compare com a razão áurea:\\n','            ',(1+math.sqrt(5))/2)"
      ],
      "execution_count": null,
      "outputs": [
        {
          "output_type": "stream",
          "name": "stdout",
          "text": [
            "Entre com o limite (>= 2): 10\n",
            " N      Fib(N)          Razão\n",
            "001     001\n",
            "002     001     1.0\n",
            "003     002     2.0\n",
            "004     003     1.5\n",
            "005     005     1.6666666666666667\n",
            "006     008     1.6\n",
            "007     013     1.625\n",
            "Compare com a razão áurea:\n",
            "              1.618033988749895\n"
          ]
        }
      ]
    },
    {
      "cell_type": "code",
      "metadata": {
        "colab": {
          "base_uri": "https://localhost:8080/"
        },
        "id": "F30Uv6Q53MOW",
        "outputId": "f26cfb2d-5634-4461-b7d1-a68b5409f695"
      },
      "source": [
        "\"\"\" Esta funççao recursiva implementa diretamente\n",
        "    a definição indutiva da soma dos inteiros de 1 até N:\n",
        "    a) A soma dos inteiros positivos até 1 é 1;\n",
        "    b) a soma dos inteiros positivos de 1 até N é\n",
        "       a soma de N com a soma dos inteiros positivos até N-1\"\"\"\n",
        "\n",
        "def Soma1aN(N):\n",
        "  if N==1: return(1)\n",
        "  else: return (N+Soma1aN(N-1)) # note-se a ativação recursiva\n",
        "\n",
        "# Uso da função\n",
        "N=int(input('Entre com o valor de N: '))\n",
        "print('A soma de 1 a', N, 'é', Soma1aN(N))"
      ],
      "execution_count": null,
      "outputs": [
        {
          "output_type": "stream",
          "name": "stdout",
          "text": [
            "Entre com o valor de N: 5\n",
            "A soma de 1 a 5 é 15\n"
          ]
        }
      ]
    },
    {
      "cell_type": "code",
      "metadata": {
        "colab": {
          "base_uri": "https://localhost:8080/"
        },
        "id": "LxpYoOoK32rv",
        "outputId": "3dbdf9cc-2f4e-4d86-ff7e-24568f983435"
      },
      "source": [
        "\"\"\" FIBONACCI USANDO A FUNÇÃO RECURSIVA FibRec \"\"\"\n",
        "\n",
        "\"\"\" Gera os primeiros N números da sequência de Fibonacci\n",
        "    e calcula a razão entre cada 2 consecutivos.\n",
        "    A partir do 26º haverá problema de alinhamento vertical\n",
        "    dos resultados.\"\"\"\n",
        "\n",
        "\"\"\"Esta função calcula o n-ésimo elemento da sequência de Fibonacci\n",
        "   a partir da definição indutiva: F(1)=1, F(2)=1, F(N)=F(N-1)+F(N-2)\n",
        "   (a partir do 3o., cada elemento é a soma dos dois anteriores) \"\"\"\n",
        "import math # Ativa o módulo de funções matemáticas\n",
        "def FibRec(N): # Dá o valor do N-ésimo elemento do sequência\n",
        "  if N==1: return(1)\n",
        "   rio poif N==2: return(1)\n",
        "  else: return (FibRec(N-1)+FibRec(N-2))\n",
        "\n",
        "# Programa que usa a função FibRec para gerar a sequência\n",
        "# O limite deve ser maior ou igual a 2\n",
        "Limite=int(input('Entre com o número de elementos (>=2): '))\n",
        "N=2 # Número de cada elemento da sequência\n",
        "# Imprime os títulos da tabela\n",
        "print(' N   Fib(N)   Razão')\n",
        "print(' ', '1', 3*' ', '1')\n",
        "print(' ', '2', 3*' ', '1',3*' ', '1.0')\n",
        "FibA = 1\n",
        "FibB = 1\n",
        "while N < Limite:\n",
        "     FibA=FibRec(N)\n",
        "     N=N+1\n",
        "     FibB=FibRec(N)\n",
        "     \"\"\" Concatena 3 brancos à esquerda se Fib(N) for menor do que 10,\n",
        "         2 se for maior do que 9 e menor do que 100,\n",
        "         1 se for maior do que 99 e menor do que 1000.\n",
        "         Se for maior do que 1000 haverá problema de alinhamento \"\"\"\n",
        "     print(2*' '+str(N) if N<10 else ' '+str(N) if N<100 else N,\n",
        "      4*' '+str(FibB) if FibB<10 else\n",
        "      3*' '+str(FibB) if FibB<100 else\n",
        "      2*' '+str(FibB) if FibB<1000 else\n",
        "      ' '+str(FibB) if FibB<10000 else FibB, 3*' ', FibB/FibA)\n",
        "print('Compare com a razão áurea:\\n', 12*' ',(1+math.sqrt(5))/2)"
      ],
      "execution_count": null,
      "outputs": [
        {
          "output_type": "stream",
          "name": "stdout",
          "text": [
            "Entre com o número de elementos (>=2): 5\n",
            " N   Fib(N)   Razão\n",
            "  1     1\n",
            "  2     1     1.0\n",
            "  3     2     2.0\n",
            "  4     3     1.5\n",
            "  5     5     1.6666666666666667\n",
            "Compare com a razão áurea:\n",
            "              1.618033988749895\n"
          ]
        }
      ]
    },
    {
      "cell_type": "markdown",
      "metadata": {
        "id": "0VQWcLIsSSkM"
      },
      "source": [
        "1) Crie um programa que leia um número n do usuário. O seu programa deve dizer quais são\n",
        "os números ímpares de 1 até n, inclusive.\n",
        "Um número par é todo aquele que, ao ser dividido pelo número dois, resultará em um número\n",
        "inteiro. Isto é, terá resto zero na divisão.\n",
        "Um número ímpar é todo aquele que, ao ser dividido pelo número dois, resultará em um\n",
        "número inteiro e restará 1, pois a divisão não será exata.\n",
        "\n",
        "2) Faça um programa que, para um número indeterminado de pessoas, leia a idade de cada\n",
        "usuário até a idade 0 (zero) ser fornecida.\n",
        "Ao final, informe:\n",
        "a) o número de pessoas;\n",
        "b) a idade média do grupo.\n",
        "\n",
        "3) Faça uma função que receba como parâmetro dois números e retorne o resultado da\n",
        "divisão.\n",
        "Tomando a função divisao(n1, n2), o resultado retornado seria"
      ]
    },
    {
      "cell_type": "code",
      "metadata": {
        "colab": {
          "base_uri": "https://localhost:8080/"
        },
        "id": "CEcAYxAQSkPe",
        "outputId": "0b4b433e-9f5d-471d-c340-3435d934d4b4"
      },
      "source": [
        "op=1;\n",
        "def divisao1():\n",
        "  N1=int(input('\\n FORMA 1 \\nDigite um numero: '))\n",
        "  N2=int(input('Digite um numero: '))\n",
        "  print(\"Resultado: \",N1/N2)\n",
        "def divisao2(n1,n2):\n",
        "  n1=n1/n2\n",
        "  return(n1)\n",
        "while(op!=0):\n",
        "  x=1\n",
        "  op2=-1\n",
        "  soma=0\n",
        "  op=int(input('Entre com a opcao (Questao [1] ou [2] ou [3] , [0] para sair): '))\n",
        "  if op==1:\n",
        "    N=int(input('Entre com o limite (>= 1): '))\n",
        "    if N%2==0:\n",
        "      print(\"\\n ++ \",N,\" e numero par ++\\n \")\n",
        "    else:\n",
        "      print(\"\\n ++ \",N,\" e numero impar ++\\n \")\n",
        "      for x in range(N+1):\n",
        "        if(x%2==1):\n",
        "          print(x,\" \")\n",
        "          ++x\n",
        "  if op==2:\n",
        "    while(op2!=0):\n",
        "      if (op2==-1):\n",
        "        c=0\n",
        "      N=int(input('Entre com a idade (Para sair digite a idade = 0): '))\n",
        "      c=c+1\n",
        "      if (N==0) and (op2==-1):\n",
        "        print(\"Voce digitou 0 logo de cara!\")\n",
        "        break\n",
        "      if (N==0) and (op2!=-1):\n",
        "        op2=-2\n",
        "        if (op2==-2):\n",
        "          soma=soma/(c-1)\n",
        "          print(\"\\nTotal de Idades: \",c-1,\" - Media das Idades: \",soma)\n",
        "          break\n",
        "      if N>0:\n",
        "        soma = soma+N\n",
        "        op2=-3\n",
        "  if op==3:\n",
        "    while(op2!=0):\n",
        "      print(\"\\n +++ Resultado da Divisão N1 por N2: \\n\")\n",
        "      divisao1()\n",
        "      N1_2=int(input('\\n FORMA 2 \\nDigite um numero: '))\n",
        "      N2_2=int(input('Digite um numero: '))\n",
        "      print (\"\\n Resultado: \",divisao2(N1_2,N2_2),\"\\n\\n\")\n",
        "      N=int(input('Digite 0 para retornar (> 0 para continuar): '))\n",
        "      if N==0:\n",
        "        op2=0;\n",
        "        break\n",
        "  if op==0:\n",
        "    break;\n"
      ],
      "execution_count": null,
      "outputs": [
        {
          "name": "stdout",
          "output_type": "stream",
          "text": [
            "Entre com a opcao (Questao [1] ou [2] ou [3] , [0] para sair): 5\n",
            "Entre com a opcao (Questao [1] ou [2] ou [3] , [0] para sair): 3\n",
            "\n",
            " +++ Resultado da Divisão N1 por N2: \n",
            "\n",
            "\n",
            " FORMA 1 \n",
            "Digite um numero: 5\n",
            "Digite um numero: 5\n",
            "Resultado:  1.0\n",
            "\n",
            " FORMA 2 \n",
            "Digite um numero: 5\n",
            "Digite um numero: 5\n",
            "\n",
            " Resultado:  1.0 \n",
            "\n",
            "\n",
            "Digite 0 para retornar (> 0 para continuar): 1\n",
            "\n",
            " +++ Resultado da Divisão N1 por N2: \n",
            "\n",
            "\n",
            " FORMA 1 \n",
            "Digite um numero: 10\n",
            "Digite um numero: 5\n",
            "Resultado:  2.0\n",
            "\n",
            " FORMA 2 \n",
            "Digite um numero: 5\n",
            "Digite um numero: 10\n",
            "\n",
            " Resultado:  0.5 \n",
            "\n",
            "\n",
            "Digite 0 para retornar (> 0 para continuar): 0\n",
            "Entre com a opcao (Questao [1] ou [2] ou [3] , [0] para sair): 0\n"
          ]
        }
      ]
    },
    {
      "cell_type": "code",
      "metadata": {
        "id": "nyh9ZewfntoM"
      },
      "source": [
        "#ESTUDOS DE CASOS COM Variáveis - Condições - Repetições \n",
        "import(\"str\")\n",
        "import(\".math\",\".pandas\")\n",
        "opcao = 0\n",
        "tam_nome = 1\n",
        "valor = 0\n",
        "while(opcao!=1):\n",
        "  nome = str(\"Fabio\")\n",
        "  sobrenome = str('Lopes')\n",
        "  idade = 35\n",
        "  ano = 1986\n",
        "\n",
        "  print(\"Meu nome: \",nome,'\\nSobrenome: ',sobrenome,'\\nIdade:',idade,'\\nAno Nascimento:',ano)\n",
        "#trabalhando com as variaveis\n",
        "  nome_dig = str(input(\"\\nDigite nome qualquer: \"))\n",
        "  print(\"Nome Informado: \",nome_dig)\n",
        "#Comparando nomes\n",
        "  if nome==nome_dig:\n",
        "    print(\"\\nO nome informado é o mesmo que o meu! Nome: \",nome)\n",
        "  else:\n",
        "    print(\"\\nNome Diferente digitado!\")\n",
        "  op1=\"1\"\n",
        "  while(op1!=\"0\"):\n",
        "    op1= str(input(print(\"\\nDeseja saber se e um nome feminino ou masculino? (S) para sim ou (N) para nao (0) para voltar \")))\n",
        "    if op1 == \"N\":\n",
        "      print(\"\\nEntendido! Ficamos na duvida!\")\n",
        "    elif op1==\"0\":\n",
        "      op1 = 0\n",
        "    else:\n",
        "      for valor in range(tam_nome,max(nome_dig)):\n",
        "        print('\\nN= ',valor)\n",
        "        valor=valor+1\n",
        "  opcao = int(input(\"\\nPara sair digite { 1 } : \"))\n",
        "  #System(\"clear\")"
      ],
      "execution_count": null,
      "outputs": []
    },
    {
      "cell_type": "markdown",
      "source": [
        "Carga Horária: 146 h\n",
        "Ementa: Utilização de técnicas e métodos de construção de algoritmos para o desenvolvimento de\n",
        "lógica e elaboração de trechos de programas a partir de introdução à lógica, introdução a algoritmos e\n",
        "de programação estruturada."
      ],
      "metadata": {
        "id": "CJiYEfQ2UXdK"
      }
    }
  ]
}